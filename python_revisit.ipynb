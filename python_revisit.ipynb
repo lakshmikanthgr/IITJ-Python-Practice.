{
  "nbformat": 4,
  "nbformat_minor": 0,
  "metadata": {
    "colab": {
      "provenance": [],
      "authorship_tag": "ABX9TyPUHmAc6+fblVRGkrw0M4Eu",
      "include_colab_link": true
    },
    "kernelspec": {
      "name": "python3",
      "display_name": "Python 3"
    },
    "language_info": {
      "name": "python"
    }
  },
  "cells": [
    {
      "cell_type": "markdown",
      "metadata": {
        "id": "view-in-github",
        "colab_type": "text"
      },
      "source": [
        "<a href=\"https://colab.research.google.com/github/lakshmikanthgr/IITJ-Python-Practice./blob/main/python_revisit.ipynb\" target=\"_parent\"><img src=\"https://colab.research.google.com/assets/colab-badge.svg\" alt=\"Open In Colab\"/></a>"
      ]
    },
    {
      "cell_type": "code",
      "execution_count": null,
      "metadata": {
        "id": "BPArF5PbVoet"
      },
      "outputs": [],
      "source": []
    },
    {
      "cell_type": "markdown",
      "source": [
        "# Converting an integer to decimal"
      ],
      "metadata": {
        "id": "31vXjWQeVzvl"
      }
    },
    {
      "cell_type": "code",
      "source": [
        "import decimal\n",
        "integer_value = 10\n",
        "# dir(decimal)\n",
        "# help(decimal.Decimal)\n",
        "decimal_value = decimal.Decimal(integer_value)\n",
        "print(f\"The dcimal value for {integer_value} is {decimal_value} \\n\"\n",
        "\"and its type is {type(decimal_value)}\")"
      ],
      "metadata": {
        "colab": {
          "base_uri": "https://localhost:8080/"
        },
        "id": "DASBE2DKV-oM",
        "outputId": "d1956c12-89ee-48ba-d05c-0b8b806ffec4"
      },
      "execution_count": null,
      "outputs": [
        {
          "output_type": "stream",
          "name": "stdout",
          "text": [
            "The dcimal value for 10 is 10 \n",
            "and its type is {type(decimal_value)}\n"
          ]
        }
      ]
    },
    {
      "cell_type": "markdown",
      "source": [
        "# Converting a string of integers to decimals"
      ],
      "metadata": {
        "id": "ae7AUbqLY1S4"
      }
    },
    {
      "cell_type": "code",
      "source": [
        "import decimal\n",
        "string_int_value = \"1234\"\n",
        "# help(decimal.Decimal)\n",
        "decimal_value = decimal.Decimal(string_int_value)\n",
        "print(f\"The decimal value of {string_int_value} is {decimal_value} \\n\"\n",
        "       \"and the type is {type(decimal_value)}\")"
      ],
      "metadata": {
        "id": "ZI4zkcDjZAWS",
        "colab": {
          "base_uri": "https://localhost:8080/"
        },
        "outputId": "f19d5802-e12c-416f-fe61-c25a42c3b5c8"
      },
      "execution_count": null,
      "outputs": [
        {
          "output_type": "stream",
          "name": "stdout",
          "text": [
            "The decimal value of 1234 is 1234 \n",
            "and the type is {type(decimal_value)}\n"
          ]
        }
      ]
    },
    {
      "cell_type": "markdown",
      "source": [
        "# Reversing a string using extended slicing technique"
      ],
      "metadata": {
        "id": "UoinTgH4HWeO"
      }
    },
    {
      "cell_type": "code",
      "source": [
        "str_value=\"Hello Laks!\"\n",
        "#revers_str_value = str_value.\n",
        "\n",
        "print(f\"str_value first letter {str_value[0]} and \\n \"\n",
        "\"all the string is {str_value[:]} and its reverse order is {str_value[::-1]}\")"
      ],
      "metadata": {
        "colab": {
          "base_uri": "https://localhost:8080/"
        },
        "id": "VRH7b7DBHhrQ",
        "outputId": "2088cc41-1588-4b97-ef6f-307b16322f3a"
      },
      "execution_count": null,
      "outputs": [
        {
          "output_type": "stream",
          "name": "stdout",
          "text": [
            "str_value first letter H and all the string is Hello Laks! and its reverse order is !skaL olleH\n"
          ]
        }
      ]
    },
    {
      "cell_type": "markdown",
      "source": [
        "# Counting vowels in given string"
      ],
      "metadata": {
        "id": "i_LdWTFgJ9cv"
      }
    },
    {
      "cell_type": "code",
      "source": [
        "vowels=\"aeiou\"\n",
        "vowels_list = list(vowels)\n",
        "given_string = \"Hello Laks!\"\n",
        "count = 0\n",
        "for charecter in given_string:\n",
        "  if charecter in vowels:\n",
        "   count = count + 1\n",
        "print(f\"for the given string {given_string} vowels count is  {count}\")"
      ],
      "metadata": {
        "colab": {
          "base_uri": "https://localhost:8080/"
        },
        "id": "yEPaxpi0KAoH",
        "outputId": "c1c8b31e-5dc1-4bda-a3ef-ed63dc406afc"
      },
      "execution_count": null,
      "outputs": [
        {
          "output_type": "stream",
          "name": "stdout",
          "text": [
            "for the given string Hello Laks! vowels count is  3\n"
          ]
        }
      ]
    },
    {
      "cell_type": "markdown",
      "source": [
        "# Counting CONSONANTS in a given word"
      ],
      "metadata": {
        "id": "CqkhRWwUga3a"
      }
    },
    {
      "cell_type": "code",
      "source": [
        "vowels=\"aeiou\"\n",
        "vowels_list = list(vowels)\n",
        "given_string = \"abcdefghijkl mnopqrs tuvxyz\"\n",
        "count = 0\n",
        "for char in given_string:\n",
        "  if not char in vowels and char!=\"\":\n",
        "    count = count +1\n",
        "print(f\"For the given string {given_string} consonants is {count}\")"
      ],
      "metadata": {
        "colab": {
          "base_uri": "https://localhost:8080/"
        },
        "id": "TE2DhO3WgtMG",
        "outputId": "31abbbd0-61c9-42bb-b5fa-1fe1031ae454"
      },
      "execution_count": null,
      "outputs": [
        {
          "output_type": "stream",
          "name": "stdout",
          "text": [
            "For the given string abcdefghijkl mnopqrs tuvxyz consonants is 22\n"
          ]
        }
      ]
    },
    {
      "cell_type": "markdown",
      "source": [
        "# Counting number of occurence of a charecter in a given string\n"
      ],
      "metadata": {
        "id": "62Ri5nZdhvvq"
      }
    },
    {
      "cell_type": "code",
      "source": [
        "given_string = \"aajjkdd fdfadfcdde fds\"\n",
        "char_pattern = \"f\"\n",
        "count = 0\n",
        "for char in given_string:\n",
        "  if char == char_pattern:\n",
        "    count = count+1\n",
        "print(f\"For a given string {given_string} the counts is {count}\")"
      ],
      "metadata": {
        "colab": {
          "base_uri": "https://localhost:8080/"
        },
        "id": "Fv61ACBMh9jv",
        "outputId": "3e517de6-a447-43f1-ceab-a749f1bcf4a9"
      },
      "execution_count": null,
      "outputs": [
        {
          "output_type": "stream",
          "name": "stdout",
          "text": [
            "For a given string aajjkdd fdfadfcdde fds the counts is 4\n"
          ]
        }
      ]
    },
    {
      "cell_type": "markdown",
      "source": [
        "# Counting an charecter if it exceeds more than once and returns them with their counts.\n"
      ],
      "metadata": {
        "id": "h4eONIA5i23u"
      }
    },
    {
      "cell_type": "code",
      "source": [
        "given_string=\"aajjkdd fadfadfcdde fds\"\n",
        "repeated_dict = {}\n",
        "for i in range(len(given_string)):\n",
        "  count = 0\n",
        "  for char in given_string:\n",
        "    if char == given_string[i]:\n",
        "      count = count +1\n",
        "    repeated_dict[given_string[i]] = count\n",
        "for key,value in repeated_dict.items():\n",
        "  print(f\"Repeated charecter {key} and its value is {value}\")\n"
      ],
      "metadata": {
        "colab": {
          "base_uri": "https://localhost:8080/"
        },
        "id": "iB3ukiOhlDjw",
        "outputId": "834b4fde-75dd-44a9-9089-a14806eb1e46"
      },
      "execution_count": null,
      "outputs": [
        {
          "output_type": "stream",
          "name": "stdout",
          "text": [
            "Repeated charecter a and its value is 4\n",
            "Repeated charecter j and its value is 2\n",
            "Repeated charecter k and its value is 1\n",
            "Repeated charecter d and its value is 7\n",
            "Repeated charecter   and its value is 2\n",
            "Repeated charecter f and its value is 4\n",
            "Repeated charecter c and its value is 1\n",
            "Repeated charecter e and its value is 1\n",
            "Repeated charecter s and its value is 1\n"
          ]
        }
      ]
    },
    {
      "cell_type": "markdown",
      "source": [
        "For above problem perplexity has provided much more refined solution as given below"
      ],
      "metadata": {
        "id": "cjTVM1y5sZSA"
      }
    },
    {
      "cell_type": "code",
      "source": [
        "given_string=\"aajjkdd fadfadfcdde fds\"\n",
        "repeated_dict = {}\n",
        "for char in given_string:\n",
        "  if char in repeated_dict:\n",
        "    repeated_dict[char] +=1\n",
        "  else:\n",
        "    repeated_dict[char] = 1\n",
        "for key, value in repeated_dict.items():\n",
        "  if value>1:\n",
        "    print(f\"Repeated char is {key} and its value is {value}\")"
      ],
      "metadata": {
        "colab": {
          "base_uri": "https://localhost:8080/"
        },
        "id": "lqAAzQDRZnsm",
        "outputId": "ef10224f-5bb6-4469-c702-6b5867c651f5"
      },
      "execution_count": null,
      "outputs": [
        {
          "output_type": "stream",
          "name": "stdout",
          "text": [
            "Repeated char is a and its value is 4\n",
            "Repeated char is j and its value is 2\n",
            "Repeated char is d and its value is 7\n",
            "Repeated char is   and its value is 2\n",
            "Repeated char is f and its value is 4\n"
          ]
        }
      ]
    },
    {
      "cell_type": "markdown",
      "source": [
        "# Writing a FIBONACCI Series"
      ],
      "metadata": {
        "id": "WmxBA1Tsak5W"
      }
    },
    {
      "cell_type": "code",
      "source": [
        "def fibonnaci(n):\n",
        "  if n==0:\n",
        "    return 0\n",
        "  elif n==1:\n",
        "    return 1\n",
        "  else:\n",
        "    return fibonnaci(n-1)+fibonnaci(n-2)\n",
        "given_number = 11\n",
        "for i in range(given_number):\n",
        "  print(fibonnaci(i))"
      ],
      "metadata": {
        "colab": {
          "base_uri": "https://localhost:8080/"
        },
        "id": "7IjsPhLHaqfT",
        "outputId": "664d4171-65f5-44bc-ba93-1bec649c4cf7"
      },
      "execution_count": null,
      "outputs": [
        {
          "output_type": "stream",
          "name": "stdout",
          "text": [
            "0\n",
            "1\n",
            "1\n",
            "2\n",
            "3\n",
            "5\n",
            "8\n",
            "13\n",
            "21\n",
            "34\n",
            "55\n"
          ]
        }
      ]
    },
    {
      "cell_type": "markdown",
      "source": [
        "# Find the maximum number in given list"
      ],
      "metadata": {
        "id": "TSxTUuEgixQ8"
      }
    },
    {
      "cell_type": "code",
      "source": [
        "import random\n",
        "#random.seed(2)\n",
        "list_a = []\n",
        "for i in range(10):\n",
        "  list_a.append(random.randint(1,100))\n",
        "\n",
        "print(f\"The random integer list is :{list_a}\")\n",
        "for i in range(len(list_a)):\n",
        "  #print(f\"The i value is {i} and list len is {len(list_a)}\")\n",
        "  temp = list_a[i]\n",
        "  for j in range(len(list_a)-i):\n",
        "    j = j+i\n",
        "    if temp<=list_a[j]:\n",
        "      continue\n",
        "    else:\n",
        "      list_a[i]=list_a[j]\n",
        "      list_a[j] = temp\n",
        "      temp = list_a[i]\n",
        "print(f\"Hope it is sorted now {list_a}\")\n",
        "print(f\"The smallest number is {list_a[0]} and  the biggest nuber is {list_a[-1]}\")\n"
      ],
      "metadata": {
        "colab": {
          "base_uri": "https://localhost:8080/"
        },
        "id": "Q9TAAu5Ji0-A",
        "outputId": "85f725ba-7241-4e3e-e9ca-98365ee3699d"
      },
      "execution_count": null,
      "outputs": [
        {
          "output_type": "stream",
          "name": "stdout",
          "text": [
            "The random integer list is :[8, 3, 8, 3]\n",
            "Hope it is sorted now [3, 3, 8, 8]\n",
            "The smallest number is 3 and  the biggest nuber is 8\n"
          ]
        }
      ]
    },
    {
      "cell_type": "markdown",
      "source": [
        "# Convert an list to string"
      ],
      "metadata": {
        "id": "z90rnh-q_3tU"
      }
    },
    {
      "cell_type": "code",
      "source": [
        "\n",
        "vowels = \"aeiou\"\n",
        "vowels_list = list(vowels)\n",
        "vowels_string = \"\".join(vowels_list)\n",
        "print(f\"Here is the vowels {vowels} that are converted to list {vowels_list} \\n\"\n",
        "      f\"and again back to string {vowels_string}\")"
      ],
      "metadata": {
        "colab": {
          "base_uri": "https://localhost:8080/"
        },
        "id": "VOeMgYw8-wvr",
        "outputId": "844ed4d7-37a4-4b3d-97cb-d1a695a8dce2"
      },
      "execution_count": null,
      "outputs": [
        {
          "output_type": "stream",
          "name": "stdout",
          "text": [
            "Here is the vowels aeiou that are converted to list ['a', 'e', 'i', 'o', 'u'] \n",
            "and again back to string aeiou\n"
          ]
        }
      ]
    },
    {
      "cell_type": "markdown",
      "source": [
        "# Comparing two strings for ANAGRAMS"
      ],
      "metadata": {
        "id": "rGZ4Jl9SLAhu"
      }
    },
    {
      "cell_type": "code",
      "source": [
        "s1 = \"tens\"\n",
        "s2 = \"net\"\n",
        "s1 = s1.upper()\n",
        "s2 = s2.upper()\n",
        "if sorted(s1)==sorted(s2):\n",
        "  print(\"Given strings are ANARAMS\")\n",
        "else:\n",
        "  print(\"Given strings are not ANAGRAMS\")"
      ],
      "metadata": {
        "colab": {
          "base_uri": "https://localhost:8080/"
        },
        "id": "rxvvtII3LJ4-",
        "outputId": "871aad9a-1fe5-4f4d-c829-5a1d2c4d8891"
      },
      "execution_count": null,
      "outputs": [
        {
          "output_type": "stream",
          "name": "stdout",
          "text": [
            "Given strings are not ANAGRAMS\n"
          ]
        }
      ]
    },
    {
      "cell_type": "markdown",
      "source": [
        "# Comparing two string for ANAGRAMS without using any library"
      ],
      "metadata": {
        "id": "It4yAOohNdq5"
      }
    },
    {
      "cell_type": "code",
      "source": [
        "s1 = \"ten\"\n",
        "s2 = \"net\"\n",
        "if s1.len() == s2.len():\n",
        "  print(\"Given string is not ANAGRAMS\")\n",
        "for c in s1:\n",
        "  if c\n",
        "\n",
        "\n"
      ],
      "metadata": {
        "id": "ZQQFpLaZNkJB"
      },
      "execution_count": null,
      "outputs": []
    },
    {
      "cell_type": "markdown",
      "source": [
        "#Check given string is PALINDROME using extended slicing technique\n"
      ],
      "metadata": {
        "id": "RARbFejATdcL"
      }
    },
    {
      "cell_type": "code",
      "source": [
        "given_string = \"AKAS\"\n",
        "if given_string == given_string[::-1]:\n",
        "  print(\"Given string is Palindrome\")\n",
        "else:\n",
        "  print(\"Given sttring is not Palindrome\")"
      ],
      "metadata": {
        "colab": {
          "base_uri": "https://localhost:8080/"
        },
        "id": "ZAMt9DcBTock",
        "outputId": "4f7f75b2-1fd3-4ef8-bce9-d4418229c2fb"
      },
      "execution_count": null,
      "outputs": [
        {
          "output_type": "stream",
          "name": "stdout",
          "text": [
            "Given sttring is not Palindrome\n"
          ]
        }
      ]
    },
    {
      "cell_type": "markdown",
      "source": [
        "# Counting white spaces in a string"
      ],
      "metadata": {
        "id": "c8bnRK3KUpjB"
      }
    },
    {
      "cell_type": "code",
      "source": [
        "given_string = \"abcdefghijkl mnopqrs  tuvxyz\"\n",
        "print(given_string.count(\"abcdefghijkl\"))\n",
        "help(str.count)"
      ],
      "metadata": {
        "colab": {
          "base_uri": "https://localhost:8080/"
        },
        "id": "1DDuCnt3UtCH",
        "outputId": "226fd699-ac20-4700-88d3-2a8f003a5d73"
      },
      "execution_count": null,
      "outputs": [
        {
          "output_type": "stream",
          "name": "stdout",
          "text": [
            "1\n",
            "Help on method_descriptor:\n",
            "\n",
            "count(...)\n",
            "    S.count(sub[, start[, end]]) -> int\n",
            "    \n",
            "    Return the number of non-overlapping occurrences of substring sub in\n",
            "    string S[start:end].  Optional arguments start and end are\n",
            "    interpreted as in slice notation.\n",
            "\n"
          ]
        }
      ]
    },
    {
      "cell_type": "markdown",
      "source": [
        "# Exploring regex patterns."
      ],
      "metadata": {
        "id": "x63tnL5Mz_b6"
      }
    },
    {
      "cell_type": "code",
      "source": [
        "import re\n",
        "\n",
        "\n",
        "def check_sp_char(string):\n",
        "    reg = r'[^a-zA-Z0-9\\s]'\n",
        "    special_car = re.findall(reg,string)\n",
        "    print(f\"Special charecter in given string is  {special_car}\")\n",
        "    return len(special_car)\n",
        "\n",
        "given_string = \"Hello! How are you doing .. 4^&*W^Q^*&Q)*_)_*_*_ 8 \"\n",
        "print(f\"The count of the sp charecter {check_sp_char(given_string)}\")"
      ],
      "metadata": {
        "colab": {
          "base_uri": "https://localhost:8080/"
        },
        "id": "2K5CG2n1z-AQ",
        "outputId": "e371083c-cbec-451a-f54d-7f142057a101"
      },
      "execution_count": 20,
      "outputs": [
        {
          "output_type": "stream",
          "name": "stdout",
          "text": [
            "Special charecter in given string is  ['!', '.', '.', '^', '&', '*', '^', '^', '*', '&', ')', '*', '_', ')', '_', '*', '_', '*', '_']\n",
            "The count of the sp charecter 19\n"
          ]
        }
      ]
    },
    {
      "cell_type": "markdown",
      "source": [
        "# Counting digits, spaces and Letters in a String"
      ],
      "metadata": {
        "id": "me3V7qezJAZv"
      }
    },
    {
      "cell_type": "code",
      "source": [
        "import re\n",
        "def check_str(string,reg):\n",
        "  matched_patterns = re.findall(reg,string)\n",
        "  print(f\"Matche content is {matched_patterns} for the given string {string}\")\n",
        "  return len(matched_patterns)\n",
        "\n",
        "given_string = \"Hello! How are you doing .. 4^&*W^Q^*&Q)*_)_*_*_ 8 \"\n",
        "digit_rig = r\"[0-9]\"\n",
        "print(f\"Count of digits in given string is {check_str(given_string,digit_rig)}\")\n",
        "digit_rig = r\"[a-zA-Z]\"\n",
        "print(f\"Count of char in given string is {check_str(given_string,digit_rig)}\")\n",
        "digit_rig = r\"[\\s]\"\n",
        "print(f\"Count of space in given string is {check_str(given_string,digit_rig)}\")\n"
      ],
      "metadata": {
        "colab": {
          "base_uri": "https://localhost:8080/"
        },
        "id": "gq9TzHnhQXTZ",
        "outputId": "762ff05b-c411-4930-be40-b898bedcb0be"
      },
      "execution_count": 22,
      "outputs": [
        {
          "output_type": "stream",
          "name": "stdout",
          "text": [
            "Matche content is ['4', '8'] for the given string Hello! How are you doing .. 4^&*W^Q^*&Q)*_)_*_*_ 8 \n",
            "Count of digits in given string is 2\n",
            "Matche content is ['H', 'e', 'l', 'l', 'o', 'H', 'o', 'w', 'a', 'r', 'e', 'y', 'o', 'u', 'd', 'o', 'i', 'n', 'g', 'W', 'Q', 'Q'] for the given string Hello! How are you doing .. 4^&*W^Q^*&Q)*_)_*_*_ 8 \n",
            "Count of char in given string is 22\n",
            "Matche content is [' ', ' ', ' ', ' ', ' ', ' ', ' ', ' '] for the given string Hello! How are you doing .. 4^&*W^Q^*&Q)*_)_*_*_ 8 \n",
            "Count of space in given string is 8\n"
          ]
        }
      ]
    },
    {
      "cell_type": "markdown",
      "source": [
        "# Removing white spaces in given string"
      ],
      "metadata": {
        "id": "r-_xki6YTRcf"
      }
    },
    {
      "cell_type": "code",
      "source": [
        "s1 = \"Hi I am Lakshmikanth!\"\n",
        "\n",
        "#First method\n",
        "print(f\"The string value is {s1.replace(' ','')}\")\n",
        "\n",
        "#Second method\n",
        "s2 = \"\".join([s for s in s1 if s!=\" \"])\n",
        "print(f\"The string value is {s2}\")\n",
        "\n",
        "#Third method\n",
        "import re\n",
        "pattern = r\"\\s\"\n",
        "result = re.sub(pattern,\"\",s1)\n",
        "print(f\"The string value is {result}\")\n"
      ],
      "metadata": {
        "colab": {
          "base_uri": "https://localhost:8080/"
        },
        "id": "zd86t6HqTUtL",
        "outputId": "e01f6fd4-cabd-4172-b74b-3abe73a77fe9"
      },
      "execution_count": 37,
      "outputs": [
        {
          "output_type": "stream",
          "name": "stdout",
          "text": [
            "The string value is HiIamLakshmikanth!\n",
            "The string value is HiIamLakshmikanth!\n",
            "The string value is HiIamLakshmikanth!\n"
          ]
        }
      ]
    },
    {
      "cell_type": "code",
      "source": [],
      "metadata": {
        "id": "gQLl742NTb7B"
      },
      "execution_count": null,
      "outputs": []
    }
  ]
}