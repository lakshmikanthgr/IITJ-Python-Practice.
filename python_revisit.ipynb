{
  "nbformat": 4,
  "nbformat_minor": 0,
  "metadata": {
    "colab": {
      "provenance": [],
      "authorship_tag": "ABX9TyNugm6CJ2N+L1HgqS4uXI5o",
      "include_colab_link": true
    },
    "kernelspec": {
      "name": "python3",
      "display_name": "Python 3"
    },
    "language_info": {
      "name": "python"
    }
  },
  "cells": [
    {
      "cell_type": "markdown",
      "metadata": {
        "id": "view-in-github",
        "colab_type": "text"
      },
      "source": [
        "<a href=\"https://colab.research.google.com/github/lakshmikanthgr/IITJ-Python-Practice./blob/main/python_revisit.ipynb\" target=\"_parent\"><img src=\"https://colab.research.google.com/assets/colab-badge.svg\" alt=\"Open In Colab\"/></a>"
      ]
    },
    {
      "cell_type": "code",
      "execution_count": null,
      "metadata": {
        "id": "BPArF5PbVoet"
      },
      "outputs": [],
      "source": []
    },
    {
      "cell_type": "markdown",
      "source": [
        "# Converting an integer to decimal"
      ],
      "metadata": {
        "id": "31vXjWQeVzvl"
      }
    },
    {
      "cell_type": "code",
      "source": [
        "import decimal\n",
        "integer_value = 10\n",
        "# dir(decimal)\n",
        "# help(decimal.Decimal)\n",
        "decimal_value = decimal.Decimal(integer_value)\n",
        "print(f\"The dcimal value for {integer_value} is {decimal_value} \\n\"\n",
        "\"and its type is {type(decimal_value)}\")"
      ],
      "metadata": {
        "colab": {
          "base_uri": "https://localhost:8080/"
        },
        "id": "DASBE2DKV-oM",
        "outputId": "d1956c12-89ee-48ba-d05c-0b8b806ffec4"
      },
      "execution_count": null,
      "outputs": [
        {
          "output_type": "stream",
          "name": "stdout",
          "text": [
            "The dcimal value for 10 is 10 \n",
            "and its type is {type(decimal_value)}\n"
          ]
        }
      ]
    },
    {
      "cell_type": "markdown",
      "source": [
        "# Converting a string of integers to decimals"
      ],
      "metadata": {
        "id": "ae7AUbqLY1S4"
      }
    },
    {
      "cell_type": "code",
      "source": [
        "import decimal\n",
        "string_int_value = \"1234\"\n",
        "# help(decimal.Decimal)\n",
        "decimal_value = decimal.Decimal(string_int_value)\n",
        "print(f\"The decimal value of {string_int_value} is {decimal_value} \\n\"\n",
        "       \"and the type is {type(decimal_value)}\")"
      ],
      "metadata": {
        "id": "ZI4zkcDjZAWS",
        "colab": {
          "base_uri": "https://localhost:8080/"
        },
        "outputId": "f19d5802-e12c-416f-fe61-c25a42c3b5c8"
      },
      "execution_count": null,
      "outputs": [
        {
          "output_type": "stream",
          "name": "stdout",
          "text": [
            "The decimal value of 1234 is 1234 \n",
            "and the type is {type(decimal_value)}\n"
          ]
        }
      ]
    },
    {
      "cell_type": "markdown",
      "source": [
        "# Reversing a string using extended slicing technique"
      ],
      "metadata": {
        "id": "UoinTgH4HWeO"
      }
    },
    {
      "cell_type": "code",
      "source": [
        "str_value=\"Hello Laks!\"\n",
        "#revers_str_value = str_value.\n",
        "\n",
        "print(f\"str_value first letter {str_value[0]} and \\n \"\n",
        "\"all the string is {str_value[:]} and its reverse order is {str_value[::-1]}\")"
      ],
      "metadata": {
        "colab": {
          "base_uri": "https://localhost:8080/"
        },
        "id": "VRH7b7DBHhrQ",
        "outputId": "2088cc41-1588-4b97-ef6f-307b16322f3a"
      },
      "execution_count": null,
      "outputs": [
        {
          "output_type": "stream",
          "name": "stdout",
          "text": [
            "str_value first letter H and all the string is Hello Laks! and its reverse order is !skaL olleH\n"
          ]
        }
      ]
    },
    {
      "cell_type": "markdown",
      "source": [
        "# Counting vowels in given string"
      ],
      "metadata": {
        "id": "i_LdWTFgJ9cv"
      }
    },
    {
      "cell_type": "code",
      "source": [
        "vowels=\"aeiou\"\n",
        "vowels_list = list(vowels)\n",
        "given_string = \"Hello Laks!\"\n",
        "count = 0\n",
        "for charecter in given_string:\n",
        "  if charecter in vowels:\n",
        "   count = count + 1\n",
        "print(f\"for the given string {given_string} vowels count is  {count}\")"
      ],
      "metadata": {
        "colab": {
          "base_uri": "https://localhost:8080/"
        },
        "id": "yEPaxpi0KAoH",
        "outputId": "c1c8b31e-5dc1-4bda-a3ef-ed63dc406afc"
      },
      "execution_count": null,
      "outputs": [
        {
          "output_type": "stream",
          "name": "stdout",
          "text": [
            "for the given string Hello Laks! vowels count is  3\n"
          ]
        }
      ]
    },
    {
      "cell_type": "markdown",
      "source": [
        "# Counting CONSONANTS in a given word"
      ],
      "metadata": {
        "id": "CqkhRWwUga3a"
      }
    },
    {
      "cell_type": "code",
      "source": [
        "vowels=\"aeiou\"\n",
        "vowels_list = list(vowels)\n",
        "given_string = \"abcdefghijkl mnopqrs tuvxyz\"\n",
        "count = 0\n",
        "for char in given_string:\n",
        "  if not char in vowels and char!=\"\":\n",
        "    count = count +1\n",
        "print(f\"For the given string {given_string} consonants is {count}\")"
      ],
      "metadata": {
        "colab": {
          "base_uri": "https://localhost:8080/"
        },
        "id": "TE2DhO3WgtMG",
        "outputId": "31abbbd0-61c9-42bb-b5fa-1fe1031ae454"
      },
      "execution_count": null,
      "outputs": [
        {
          "output_type": "stream",
          "name": "stdout",
          "text": [
            "For the given string abcdefghijkl mnopqrs tuvxyz consonants is 22\n"
          ]
        }
      ]
    },
    {
      "cell_type": "markdown",
      "source": [
        "# Counting number of occurence of a charecter in a given string\n"
      ],
      "metadata": {
        "id": "62Ri5nZdhvvq"
      }
    },
    {
      "cell_type": "code",
      "source": [
        "given_string = \"aajjkdd fdfadfcdde fds\"\n",
        "char_pattern = \"f\"\n",
        "count = 0\n",
        "for char in given_string:\n",
        "  if char == char_pattern:\n",
        "    count = count+1\n",
        "print(f\"For a given string {given_string} the counts is {count}\")"
      ],
      "metadata": {
        "colab": {
          "base_uri": "https://localhost:8080/"
        },
        "id": "Fv61ACBMh9jv",
        "outputId": "3e517de6-a447-43f1-ceab-a749f1bcf4a9"
      },
      "execution_count": null,
      "outputs": [
        {
          "output_type": "stream",
          "name": "stdout",
          "text": [
            "For a given string aajjkdd fdfadfcdde fds the counts is 4\n"
          ]
        }
      ]
    },
    {
      "cell_type": "markdown",
      "source": [
        "# Counting an charecter if it exceeds more than once and returns them with their counts.\n"
      ],
      "metadata": {
        "id": "h4eONIA5i23u"
      }
    },
    {
      "cell_type": "code",
      "source": [
        "given_string=\"aajjkdd fadfadfcdde fds\"\n",
        "repeated_dict = {}\n",
        "for i in range(len(given_string)):\n",
        "  count = 0\n",
        "  for char in given_string:\n",
        "    if char == given_string[i]:\n",
        "      count = count +1\n",
        "    repeated_dict[given_string[i]] = count\n",
        "for key,value in repeated_dict.items():\n",
        "  print(f\"Repeated charecter {key} and its value is {value}\")\n"
      ],
      "metadata": {
        "colab": {
          "base_uri": "https://localhost:8080/"
        },
        "id": "iB3ukiOhlDjw",
        "outputId": "834b4fde-75dd-44a9-9089-a14806eb1e46"
      },
      "execution_count": null,
      "outputs": [
        {
          "output_type": "stream",
          "name": "stdout",
          "text": [
            "Repeated charecter a and its value is 4\n",
            "Repeated charecter j and its value is 2\n",
            "Repeated charecter k and its value is 1\n",
            "Repeated charecter d and its value is 7\n",
            "Repeated charecter   and its value is 2\n",
            "Repeated charecter f and its value is 4\n",
            "Repeated charecter c and its value is 1\n",
            "Repeated charecter e and its value is 1\n",
            "Repeated charecter s and its value is 1\n"
          ]
        }
      ]
    },
    {
      "cell_type": "markdown",
      "source": [
        "For above problem perplexity has provided much more refined solution as given below"
      ],
      "metadata": {
        "id": "cjTVM1y5sZSA"
      }
    },
    {
      "cell_type": "code",
      "source": [
        "given_string=\"aajjkdd fadfadfcdde fds\"\n",
        "repeated_dict = {}\n",
        "for char in given_string:\n",
        "  if char in repeated_dict:\n",
        "    repeated_dict[char] +=1\n",
        "  else:\n",
        "    repeated_dict[char] = 1\n",
        "for key, value in repeated_dict.items():\n",
        "  if value>1:\n",
        "    print(f\"Repeated char is {key} and its value is {value}\")"
      ],
      "metadata": {
        "colab": {
          "base_uri": "https://localhost:8080/"
        },
        "id": "lqAAzQDRZnsm",
        "outputId": "ef10224f-5bb6-4469-c702-6b5867c651f5"
      },
      "execution_count": null,
      "outputs": [
        {
          "output_type": "stream",
          "name": "stdout",
          "text": [
            "Repeated char is a and its value is 4\n",
            "Repeated char is j and its value is 2\n",
            "Repeated char is d and its value is 7\n",
            "Repeated char is   and its value is 2\n",
            "Repeated char is f and its value is 4\n"
          ]
        }
      ]
    },
    {
      "cell_type": "markdown",
      "source": [
        "# Writing a FIBONACCI Series"
      ],
      "metadata": {
        "id": "WmxBA1Tsak5W"
      }
    },
    {
      "cell_type": "code",
      "source": [
        "def fibonnaci(n):\n",
        "  if n==0:\n",
        "    return 0\n",
        "  elif n==1:\n",
        "    return 1\n",
        "  else:\n",
        "    return fibonnaci(n-1)+fibonnaci(n-2)\n",
        "given_number = 11\n",
        "for i in range(given_number):\n",
        "  print(fibonnaci(i))"
      ],
      "metadata": {
        "colab": {
          "base_uri": "https://localhost:8080/"
        },
        "id": "7IjsPhLHaqfT",
        "outputId": "664d4171-65f5-44bc-ba93-1bec649c4cf7"
      },
      "execution_count": null,
      "outputs": [
        {
          "output_type": "stream",
          "name": "stdout",
          "text": [
            "0\n",
            "1\n",
            "1\n",
            "2\n",
            "3\n",
            "5\n",
            "8\n",
            "13\n",
            "21\n",
            "34\n",
            "55\n"
          ]
        }
      ]
    },
    {
      "cell_type": "markdown",
      "source": [
        "# Find the maximum number in given list"
      ],
      "metadata": {
        "id": "TSxTUuEgixQ8"
      }
    },
    {
      "cell_type": "code",
      "source": [
        "import random\n",
        "#random.seed(2)\n",
        "list_a = []\n",
        "for i in range(10):\n",
        "  list_a.append(random.randint(1,100))\n",
        "\n",
        "print(f\"The random integer list is :{list_a}\")\n",
        "for i in range(len(list_a)):\n",
        "  #print(f\"The i value is {i} and list len is {len(list_a)}\")\n",
        "  temp = list_a[i]\n",
        "  for j in range(len(list_a)-i):\n",
        "    j = j+i\n",
        "    if temp<=list_a[j]:\n",
        "      continue\n",
        "    else:\n",
        "      list_a[i]=list_a[j]\n",
        "      list_a[j] = temp\n",
        "      temp = list_a[i]\n",
        "print(f\"Hope it is sorted now {list_a}\")\n",
        "print(f\"The smallest number is {list_a[0]} and  the biggest nuber is {list_a[-1]}\")\n"
      ],
      "metadata": {
        "colab": {
          "base_uri": "https://localhost:8080/"
        },
        "id": "Q9TAAu5Ji0-A",
        "outputId": "85f725ba-7241-4e3e-e9ca-98365ee3699d"
      },
      "execution_count": null,
      "outputs": [
        {
          "output_type": "stream",
          "name": "stdout",
          "text": [
            "The random integer list is :[8, 3, 8, 3]\n",
            "Hope it is sorted now [3, 3, 8, 8]\n",
            "The smallest number is 3 and  the biggest nuber is 8\n"
          ]
        }
      ]
    },
    {
      "cell_type": "markdown",
      "source": [
        "# Convert an list to string"
      ],
      "metadata": {
        "id": "z90rnh-q_3tU"
      }
    },
    {
      "cell_type": "code",
      "source": [
        "\n",
        "vowels = \"aeiou\"\n",
        "vowels_list = list(vowels)\n",
        "vowels_string = \"\".join(vowels_list)\n",
        "print(f\"Here is the vowels {vowels} that are converted to list {vowels_list} \\n\"\n",
        "      f\"and again back to string {vowels_string}\")"
      ],
      "metadata": {
        "colab": {
          "base_uri": "https://localhost:8080/"
        },
        "id": "VOeMgYw8-wvr",
        "outputId": "844ed4d7-37a4-4b3d-97cb-d1a695a8dce2"
      },
      "execution_count": null,
      "outputs": [
        {
          "output_type": "stream",
          "name": "stdout",
          "text": [
            "Here is the vowels aeiou that are converted to list ['a', 'e', 'i', 'o', 'u'] \n",
            "and again back to string aeiou\n"
          ]
        }
      ]
    },
    {
      "cell_type": "markdown",
      "source": [
        "# Comparing two strings for ANAGRAMS"
      ],
      "metadata": {
        "id": "rGZ4Jl9SLAhu"
      }
    },
    {
      "cell_type": "code",
      "source": [
        "s1 = \"tens\"\n",
        "s2 = \"net\"\n",
        "s1 = s1.upper()\n",
        "s2 = s2.upper()\n",
        "if sorted(s1)==sorted(s2):\n",
        "  print(\"Given strings are ANARAMS\")\n",
        "else:\n",
        "  print(\"Given strings are not ANAGRAMS\")"
      ],
      "metadata": {
        "colab": {
          "base_uri": "https://localhost:8080/"
        },
        "id": "rxvvtII3LJ4-",
        "outputId": "871aad9a-1fe5-4f4d-c829-5a1d2c4d8891"
      },
      "execution_count": null,
      "outputs": [
        {
          "output_type": "stream",
          "name": "stdout",
          "text": [
            "Given strings are not ANAGRAMS\n"
          ]
        }
      ]
    },
    {
      "cell_type": "markdown",
      "source": [
        "# Comparing two string for ANAGRAMS without using any library"
      ],
      "metadata": {
        "id": "It4yAOohNdq5"
      }
    },
    {
      "cell_type": "code",
      "source": [
        "s1 = \"ten\"\n",
        "s2 = \"net\"\n",
        "if s1.len() == s2.len():\n",
        "  print(\"Given string is not ANAGRAMS\")\n",
        "for c in s1:\n",
        "  if c\n",
        "\n",
        "\n"
      ],
      "metadata": {
        "id": "ZQQFpLaZNkJB"
      },
      "execution_count": null,
      "outputs": []
    },
    {
      "cell_type": "markdown",
      "source": [
        "#Check given string is PALINDROME using extended slicing technique\n"
      ],
      "metadata": {
        "id": "RARbFejATdcL"
      }
    },
    {
      "cell_type": "code",
      "source": [
        "given_string = \"AKAS\"\n",
        "if given_string == given_string[::-1]:\n",
        "  print(\"Given string is Palindrome\")\n",
        "else:\n",
        "  print(\"Given sttring is not Palindrome\")"
      ],
      "metadata": {
        "colab": {
          "base_uri": "https://localhost:8080/"
        },
        "id": "ZAMt9DcBTock",
        "outputId": "4f7f75b2-1fd3-4ef8-bce9-d4418229c2fb"
      },
      "execution_count": null,
      "outputs": [
        {
          "output_type": "stream",
          "name": "stdout",
          "text": [
            "Given sttring is not Palindrome\n"
          ]
        }
      ]
    },
    {
      "cell_type": "markdown",
      "source": [
        "# Counting white spaces in a string"
      ],
      "metadata": {
        "id": "c8bnRK3KUpjB"
      }
    },
    {
      "cell_type": "code",
      "source": [
        "given_string = \"abcdefghijkl mnopqrs  tuvxyz\"\n",
        "print(given_string.count(\"abcdefghijkl\"))\n",
        "help(str.count)"
      ],
      "metadata": {
        "colab": {
          "base_uri": "https://localhost:8080/"
        },
        "id": "1DDuCnt3UtCH",
        "outputId": "226fd699-ac20-4700-88d3-2a8f003a5d73"
      },
      "execution_count": null,
      "outputs": [
        {
          "output_type": "stream",
          "name": "stdout",
          "text": [
            "1\n",
            "Help on method_descriptor:\n",
            "\n",
            "count(...)\n",
            "    S.count(sub[, start[, end]]) -> int\n",
            "    \n",
            "    Return the number of non-overlapping occurrences of substring sub in\n",
            "    string S[start:end].  Optional arguments start and end are\n",
            "    interpreted as in slice notation.\n",
            "\n"
          ]
        }
      ]
    },
    {
      "cell_type": "markdown",
      "source": [
        "# Exploring regex patterns."
      ],
      "metadata": {
        "id": "x63tnL5Mz_b6"
      }
    },
    {
      "cell_type": "code",
      "source": [
        "import re\n",
        "\n",
        "\n",
        "def check_sp_char(string):\n",
        "    reg = r'[^a-zA-Z0-9\\s]'\n",
        "    special_car = re.findall(reg,string)\n",
        "    print(f\"Special charecter in given string is  {special_car}\")\n",
        "    return len(special_car)\n",
        "\n",
        "given_string = \"Hello! How are you doing .. 4^&*W^Q^*&Q)*_)_*_*_ 8 \"\n",
        "print(f\"The count of the sp charecter {check_sp_char(given_string)}\")"
      ],
      "metadata": {
        "colab": {
          "base_uri": "https://localhost:8080/"
        },
        "id": "2K5CG2n1z-AQ",
        "outputId": "e371083c-cbec-451a-f54d-7f142057a101"
      },
      "execution_count": null,
      "outputs": [
        {
          "output_type": "stream",
          "name": "stdout",
          "text": [
            "Special charecter in given string is  ['!', '.', '.', '^', '&', '*', '^', '^', '*', '&', ')', '*', '_', ')', '_', '*', '_', '*', '_']\n",
            "The count of the sp charecter 19\n"
          ]
        }
      ]
    },
    {
      "cell_type": "markdown",
      "source": [
        "# Counting digits, spaces and Letters in a String"
      ],
      "metadata": {
        "id": "me3V7qezJAZv"
      }
    },
    {
      "cell_type": "code",
      "source": [
        "import re\n",
        "def check_str(string,reg):\n",
        "  matched_patterns = re.findall(reg,string)\n",
        "  print(f\"Matche content is {matched_patterns} for the given string {string}\")\n",
        "  return len(matched_patterns)\n",
        "\n",
        "given_string = \"Hello! How are you doing .. 4^&*W^Q^*&Q)*_)_*_*_ 8 \"\n",
        "digit_rig = r\"[0-9]\"\n",
        "print(f\"Count of digits in given string is {check_str(given_string,digit_rig)}\")\n",
        "digit_rig = r\"[a-zA-Z]\"\n",
        "print(f\"Count of char in given string is {check_str(given_string,digit_rig)}\")\n",
        "digit_rig = r\"[\\s]\"\n",
        "print(f\"Count of space in given string is {check_str(given_string,digit_rig)}\")\n"
      ],
      "metadata": {
        "colab": {
          "base_uri": "https://localhost:8080/"
        },
        "id": "gq9TzHnhQXTZ",
        "outputId": "762ff05b-c411-4930-be40-b898bedcb0be"
      },
      "execution_count": null,
      "outputs": [
        {
          "output_type": "stream",
          "name": "stdout",
          "text": [
            "Matche content is ['4', '8'] for the given string Hello! How are you doing .. 4^&*W^Q^*&Q)*_)_*_*_ 8 \n",
            "Count of digits in given string is 2\n",
            "Matche content is ['H', 'e', 'l', 'l', 'o', 'H', 'o', 'w', 'a', 'r', 'e', 'y', 'o', 'u', 'd', 'o', 'i', 'n', 'g', 'W', 'Q', 'Q'] for the given string Hello! How are you doing .. 4^&*W^Q^*&Q)*_)_*_*_ 8 \n",
            "Count of char in given string is 22\n",
            "Matche content is [' ', ' ', ' ', ' ', ' ', ' ', ' ', ' '] for the given string Hello! How are you doing .. 4^&*W^Q^*&Q)*_)_*_*_ 8 \n",
            "Count of space in given string is 8\n"
          ]
        }
      ]
    },
    {
      "cell_type": "markdown",
      "source": [
        "# Removing white spaces in given string"
      ],
      "metadata": {
        "id": "r-_xki6YTRcf"
      }
    },
    {
      "cell_type": "code",
      "source": [
        "s1 = \"Hi I am Lakshmikanth!\"\n",
        "\n",
        "#First method\n",
        "print(f\"The string value is {s1.replace(' ','')}\")\n",
        "\n",
        "#Second method\n",
        "s2 = \"\".join([s for s in s1 if s!=\" \"])\n",
        "print(f\"The string value is {s2}\")\n",
        "\n",
        "#Third method\n",
        "import re\n",
        "pattern = r\"\\s\"\n",
        "result = re.sub(pattern,\"\",s1)\n",
        "print(f\"The string value is {result}\")\n"
      ],
      "metadata": {
        "colab": {
          "base_uri": "https://localhost:8080/"
        },
        "id": "zd86t6HqTUtL",
        "outputId": "e01f6fd4-cabd-4172-b74b-3abe73a77fe9"
      },
      "execution_count": null,
      "outputs": [
        {
          "output_type": "stream",
          "name": "stdout",
          "text": [
            "The string value is HiIamLakshmikanth!\n",
            "The string value is HiIamLakshmikanth!\n",
            "The string value is HiIamLakshmikanth!\n"
          ]
        }
      ]
    },
    {
      "cell_type": "markdown",
      "source": [
        "# Radomizing the list items"
      ],
      "metadata": {
        "id": "xfMWK0o6c9UM"
      }
    },
    {
      "cell_type": "code",
      "source": [
        "import random\n",
        "dir(random)\n",
        "help(random.shuffle)\n",
        "list_a=[\"Hi\", \"This\",\"is\", \"Laks\", \"!\"]\n",
        "random.shuffle(list_a)\n",
        "print(f\"Shufled list is {list_a}\")"
      ],
      "metadata": {
        "colab": {
          "base_uri": "https://localhost:8080/"
        },
        "id": "gQLl742NTb7B",
        "outputId": "84b201bf-c333-460a-d9ec-142d7702da3e"
      },
      "execution_count": null,
      "outputs": [
        {
          "output_type": "stream",
          "name": "stdout",
          "text": [
            "Help on method shuffle in module random:\n",
            "\n",
            "shuffle(x, random=None) method of random.Random instance\n",
            "    Shuffle list x in place, and return None.\n",
            "    \n",
            "    Optional argument random is a 0-argument function returning a\n",
            "    random float in [0.0, 1.0); if it is the default None, the\n",
            "    standard random.random will be used.\n",
            "\n",
            "Shufled list is ['is', 'Hi', 'Laks', 'This', '!']\n"
          ]
        }
      ]
    },
    {
      "cell_type": "markdown",
      "source": [],
      "metadata": {
        "id": "gReQW2WHeMjv"
      }
    },
    {
      "cell_type": "markdown",
      "source": [
        "# Print first n prime number"
      ],
      "metadata": {
        "id": "JwAAgqrteNk0"
      }
    },
    {
      "cell_type": "code",
      "source": [
        "given_input = 1000\n",
        "\n",
        "def get_prime_numbers(n):\n",
        "  prime_numbers = []\n",
        "  if n<2:\n",
        "   return prime_numbers\n",
        "  for i in range(2,n):\n",
        "    is_prime = True\n",
        "    #i can be square root of i. As if it has square root then it is not prime\n",
        "    for j in range(2,i):\n",
        "      if(i%j==0):\n",
        "        is_prime = False\n",
        "        break\n",
        "    if is_prime:\n",
        "      prime_numbers.append(i)\n",
        "  return prime_numbers\n",
        "print(f\"The prime number list is {get_prime_numbers(given_input)} and its count is {len(get_prime_numbers(given_input))}\")\n",
        "\n",
        "\n"
      ],
      "metadata": {
        "colab": {
          "base_uri": "https://localhost:8080/"
        },
        "outputId": "731d173b-5589-44c6-d6ab-cd86e67fbd80",
        "id": "nM6PsQfGLif6"
      },
      "execution_count": null,
      "outputs": [
        {
          "output_type": "stream",
          "name": "stdout",
          "text": [
            "The prime number list is [2, 3, 5, 7, 11, 13, 17, 19, 23, 29, 31, 37, 41, 43, 47, 53, 59, 61, 67, 71, 73, 79, 83, 89, 97, 101, 103, 107, 109, 113, 127, 131, 137, 139, 149, 151, 157, 163, 167, 173, 179, 181, 191, 193, 197, 199, 211, 223, 227, 229, 233, 239, 241, 251, 257, 263, 269, 271, 277, 281, 283, 293, 307, 311, 313, 317, 331, 337, 347, 349, 353, 359, 367, 373, 379, 383, 389, 397, 401, 409, 419, 421, 431, 433, 439, 443, 449, 457, 461, 463, 467, 479, 487, 491, 499, 503, 509, 521, 523, 541, 547, 557, 563, 569, 571, 577, 587, 593, 599, 601, 607, 613, 617, 619, 631, 641, 643, 647, 653, 659, 661, 673, 677, 683, 691, 701, 709, 719, 727, 733, 739, 743, 751, 757, 761, 769, 773, 787, 797, 809, 811, 821, 823, 827, 829, 839, 853, 857, 859, 863, 877, 881, 883, 887, 907, 911, 919, 929, 937, 941, 947, 953, 967, 971, 977, 983, 991, 997] and its count is 168\n"
          ]
        }
      ]
    },
    {
      "cell_type": "markdown",
      "source": [
        "# Now try with some other way that you just learn from the book. Using yield."
      ],
      "metadata": {
        "id": "W3JeEyNE4qXn"
      }
    },
    {
      "cell_type": "code",
      "source": [
        "given_integer = 77\n",
        "\n",
        "def is_prime(n):\n",
        "  for i in range(2,n):\n",
        "    if n%i==0:\n",
        "      return False\n",
        "  return  True\n",
        "if is_prime(given_integer):\n",
        "  print(f\"The given number is prime\")\n",
        "else:\n",
        "  print(f\"Given number is not prime\")\n",
        "\n",
        "def prime_generator(number):\n",
        "  n = 2\n",
        "  while(number):\n",
        "    #print(f\"Give number and the counters are {number} and {n}\")\n",
        "    if(is_prime(number)):\n",
        "      yield number\n",
        "\n",
        "    number-=1\n",
        "  n+=1\n",
        "count = 0\n",
        "for i in prime_generator(1000):\n",
        "  count = count+1\n",
        "  print(i,end=\" \")\n",
        "print(f\"count is {count}\")\n"
      ],
      "metadata": {
        "colab": {
          "base_uri": "https://localhost:8080/"
        },
        "id": "zSeDkAUB43fY",
        "outputId": "41a0c847-7ef2-43e3-e4f0-938d726f93af"
      },
      "execution_count": null,
      "outputs": [
        {
          "output_type": "stream",
          "name": "stdout",
          "text": [
            "Given number is not prime\n",
            "997 991 983 977 971 967 953 947 941 937 929 919 911 907 887 883 881 877 863 859 857 853 839 829 827 823 821 811 809 797 787 773 769 761 757 751 743 739 733 727 719 709 701 691 683 677 673 661 659 653 647 643 641 631 619 617 613 607 601 599 593 587 577 571 569 563 557 547 541 523 521 509 503 499 491 487 479 467 463 461 457 449 443 439 433 431 421 419 409 401 397 389 383 379 373 367 359 353 349 347 337 331 317 313 311 307 293 283 281 277 271 269 263 257 251 241 239 233 229 227 223 211 199 197 193 191 181 179 173 167 163 157 151 149 139 137 131 127 113 109 107 103 101 97 89 83 79 73 71 67 61 59 53 47 43 41 37 31 29 23 19 17 13 11 7 5 3 2 1 count is 169\n"
          ]
        }
      ]
    },
    {
      "cell_type": "markdown",
      "source": [
        "#Giving variable lenghth of arguments."
      ],
      "metadata": {
        "id": "HPNnDqZ48q_H"
      }
    },
    {
      "cell_type": "code",
      "source": [
        "def average(*kargs):\n",
        "  sum = 0\n",
        "  count = 0\n",
        "  for arg in kargs:\n",
        "    sum+=int(arg)\n",
        "    count+=1\n",
        "  return sum/count\n",
        "\n",
        "\n",
        "average(1,2,3,12131,13131,13131)"
      ],
      "metadata": {
        "colab": {
          "base_uri": "https://localhost:8080/"
        },
        "id": "iuq19E_d9SOL",
        "outputId": "47217133-2033-4374-d881-d17040a54be1"
      },
      "execution_count": null,
      "outputs": [
        {
          "output_type": "execute_result",
          "data": {
            "text/plain": [
              "6399.833333333333"
            ]
          },
          "metadata": {},
          "execution_count": 92
        }
      ]
    },
    {
      "cell_type": "markdown",
      "source": [
        "# Giving variable lenghth of dictionary values as input. You need to use **"
      ],
      "metadata": {
        "id": "fCLS1jYD_F2E"
      }
    },
    {
      "cell_type": "code",
      "source": [
        "def print_info(**info):\n",
        "  for name,age in info.items():\n",
        "    print(f\"Person name is {name} and his age is {age}\")\n",
        "print_info(laks=34,Moni=30)"
      ],
      "metadata": {
        "colab": {
          "base_uri": "https://localhost:8080/"
        },
        "id": "FJ81Fyk2_Nth",
        "outputId": "3e372851-5f9c-42e4-94fa-7a77f86bcab6"
      },
      "execution_count": null,
      "outputs": [
        {
          "output_type": "stream",
          "name": "stdout",
          "text": [
            "Person name is laks and his age is 34\n",
            "Person name is Moni and his age is 30\n"
          ]
        }
      ]
    },
    {
      "cell_type": "markdown",
      "source": [
        "# Creating instances member variables in python\n",
        "\n",
        "__init__ method initiaize an instance variable with 10 to self.a\n",
        "\n",
        "__function_a__ method initialize an instance variable self.b with 12\n",
        "\n",
        "Two instances of class test has been created.\n",
        "\n",
        "Dynamically added another instance variable to the class instance."
      ],
      "metadata": {
        "id": "m1sPH28RBQPH"
      }
    },
    {
      "cell_type": "code",
      "source": [
        "class test:\n",
        "    def __init__(self):\n",
        "        # First instance variable\n",
        "        self.a = 10\n",
        "\n",
        "    def function_a(self):\n",
        "        # Second instance variable\n",
        "        self.b = 12\n",
        "\n",
        "t1 = test()  # Create an instance of the class test\n",
        "t2 = test()  # Create another instance of the class test\n",
        "t1.c = 13    # Dynamically add a new instance variable 'c' to t1\n",
        "\n",
        "print(f\"printing the objects\")\n",
        "print(f\"t1 object :{t1.function_a()}\")  # Call function_a, which sets 'b' for t1\n",
        "print(f\"t1 object :{t1.a} {t1.b} and {t1.c}\")  # Print values of a, b, and c for t1\n",
        "print(f\"And something which need to explore {t1.__dict__}, {t2.__dict__}\")  # Print __dict__ for both instances\n"
      ],
      "metadata": {
        "colab": {
          "base_uri": "https://localhost:8080/"
        },
        "id": "12ONcNEoBVg3",
        "outputId": "28e4fad9-e301-466c-9a09-8f5b2a6bd960"
      },
      "execution_count": null,
      "outputs": [
        {
          "output_type": "stream",
          "name": "stdout",
          "text": [
            "printing the objects\n",
            "t1 object :None\n",
            "t1 object :10 12 and 13\n",
            "And something which need to explore {'a': 10, 'c': 13, 'b': 12}, {'a': 10}\n"
          ]
        }
      ]
    },
    {
      "cell_type": "markdown",
      "source": [
        "# Using lambda\n",
        "\n"
      ],
      "metadata": {
        "id": "HbqrsxY4Eb6V"
      }
    },
    {
      "cell_type": "code",
      "source": [
        "x = lambda x : x*x\n",
        "x(5)"
      ],
      "metadata": {
        "colab": {
          "base_uri": "https://localhost:8080/"
        },
        "id": "EOup1CU4Eq0Q",
        "outputId": "817e99eb-fb9f-4f98-f22c-92f59a3855ea"
      },
      "execution_count": null,
      "outputs": [
        {
          "output_type": "execute_result",
          "data": {
            "text/plain": [
              "25"
            ]
          },
          "metadata": {},
          "execution_count": 12
        }
      ]
    },
    {
      "cell_type": "markdown",
      "source": [
        "# Creating addition function using lambda"
      ],
      "metadata": {
        "id": "SmP507h3Ewq_"
      }
    },
    {
      "cell_type": "code",
      "source": [
        "add_func = lambda a,b: a+b\n",
        "add_func(19231,1231)"
      ],
      "metadata": {
        "colab": {
          "base_uri": "https://localhost:8080/"
        },
        "id": "4HIfZKblCno6",
        "outputId": "65eba202-4418-49bb-bd82-1dec58b17f47"
      },
      "execution_count": null,
      "outputs": [
        {
          "output_type": "execute_result",
          "data": {
            "text/plain": [
              "20462"
            ]
          },
          "metadata": {},
          "execution_count": 13
        }
      ]
    },
    {
      "cell_type": "markdown",
      "source": [
        "# Finding factorial using lambda function"
      ],
      "metadata": {
        "id": "XUBSYkc9FDl6"
      }
    },
    {
      "cell_type": "code",
      "source": [
        "fact = lambda n:1 if n==0 else n*fact(n-1)\n",
        "fact(5)"
      ],
      "metadata": {
        "colab": {
          "base_uri": "https://localhost:8080/"
        },
        "id": "tLrIvzCrFG_W",
        "outputId": "42e527aa-cc2c-45ef-9999-649a3687377c"
      },
      "execution_count": null,
      "outputs": [
        {
          "output_type": "execute_result",
          "data": {
            "text/plain": [
              "120"
            ]
          },
          "metadata": {},
          "execution_count": 2
        }
      ]
    },
    {
      "cell_type": "markdown",
      "source": [
        "# List compression. Creating a list in a single line"
      ],
      "metadata": {
        "id": "66i__s5TFvXW"
      }
    },
    {
      "cell_type": "code",
      "source": [
        "a = [x for x in range(1,10)]\n",
        "print(a)\n",
        "b = [x*x for x in range(2,5)]\n",
        "print(b)\n",
        "c = sum([s for s in range(1,11)])\n",
        "print(c)\n",
        "\n"
      ],
      "metadata": {
        "colab": {
          "base_uri": "https://localhost:8080/"
        },
        "id": "pEBICW69F0Au",
        "outputId": "dfb07426-6115-4b3b-946b-6550643eec4a"
      },
      "execution_count": null,
      "outputs": [
        {
          "output_type": "stream",
          "name": "stdout",
          "text": [
            "[1, 2, 3, 4, 5, 6, 7, 8, 9]\n",
            "[4, 9, 16]\n",
            "55\n"
          ]
        }
      ]
    },
    {
      "cell_type": "markdown",
      "source": [
        "# Just an example how the split, join would work for str"
      ],
      "metadata": {
        "id": "JeBhydrJGzbA"
      }
    },
    {
      "cell_type": "code",
      "source": [
        "given_str = \"I am laks, Learning Datascince\"\n",
        "print(f\"Given string is {given_str}\")\n",
        "# Convert it to a list\n",
        "given_str_list = given_str.split(\" \")\n",
        "print(f\"Given string converted as list {given_str_list}\")\n",
        "#Reverse the list\n",
        "revers_str = given_str_list[::-1]\n",
        "print(f\"Revers string is {revers_str}\")"
      ],
      "metadata": {
        "colab": {
          "base_uri": "https://localhost:8080/"
        },
        "id": "lgO2Rha5G38l",
        "outputId": "40625253-286f-4519-8c83-12192efebdca"
      },
      "execution_count": null,
      "outputs": [
        {
          "output_type": "stream",
          "name": "stdout",
          "text": [
            "Given string is I am laks, Learning Datascince\n",
            "Given string converted as list ['I', 'am', 'laks,', 'Learning', 'Datascince']\n",
            "Revers string is ['Datascince', 'Learning', 'laks,', 'am', 'I']\n"
          ]
        }
      ]
    },
    {
      "cell_type": "markdown",
      "source": [
        "# Global variable and local variable"
      ],
      "metadata": {
        "id": "-DICfcBRIHdX"
      }
    },
    {
      "cell_type": "code",
      "source": [
        "x = 10\n",
        "def func_a():\n",
        "  global x\n",
        "  x=22\n",
        "  y = 99\n",
        "  print(f\"local x and yis {x,y}\")\n",
        "\n",
        "func_a()\n",
        "print(f\"Outside of the function x is {x}\")\n"
      ],
      "metadata": {
        "colab": {
          "base_uri": "https://localhost:8080/"
        },
        "id": "szasmt9DIPS6",
        "outputId": "98ef3197-a4b7-49f4-b3ec-500835a61d5f"
      },
      "execution_count": null,
      "outputs": [
        {
          "output_type": "stream",
          "name": "stdout",
          "text": [
            "local x and yis (22, 99)\n",
            "Outside of the function x is 22\n"
          ]
        }
      ]
    },
    {
      "cell_type": "markdown",
      "source": [
        "# Decorator:\n",
        "1. Decorator in python essentially a function that takes another function as an\n",
        "argument. Inside this function there will be another function that calls the passed arrgument. You can added whatever code here.\n",
        "2. It basically modify or extend the functionality of a function.\n",
        "\n",
        "\n",
        "\n",
        "\n"
      ],
      "metadata": {
        "id": "5C9f-dB6vUhL"
      }
    },
    {
      "cell_type": "code",
      "source": [
        "#This is the decorator function that takes the argument func_a\n",
        "def my_decorator(func_a):\n",
        "  # There will be wrapper wraps your extra code(extra/modified functionality)\n",
        "  def wraper():\n",
        "    print(\"This is an decoration for hello function TOP\")\n",
        "    func_a()\n",
        "    print(\"This is an decoration for hello function BOTTOM\")\n",
        "  return wraper\n",
        "#say this function need some extra decoration. But you dont wanted to change\n",
        "#the code of actual functon func_a\n",
        "#Now use decoratore which we defined\n",
        "@my_decorator\n",
        "def func_a():\n",
        "  print(\"Hello with decoratorr\")\n",
        "\n",
        "func_a()"
      ],
      "metadata": {
        "colab": {
          "base_uri": "https://localhost:8080/"
        },
        "id": "DSpkqO4IwoLm",
        "outputId": "12f644c6-7cfc-4d5f-eb8b-830973f72c49"
      },
      "execution_count": null,
      "outputs": [
        {
          "output_type": "stream",
          "name": "stdout",
          "text": [
            "This is an decoration for hello function TOP\n",
            "Hello with decoratorr\n",
            "This is an decoration for hello function BOTTOM\n"
          ]
        }
      ]
    },
    {
      "cell_type": "markdown",
      "source": [
        "# Decorator with arguments"
      ],
      "metadata": {
        "id": "-FAYY4NTy_HB"
      }
    },
    {
      "cell_type": "code",
      "source": [
        "# Decorator with arguments\n",
        "def repeat(num_time):\n",
        "  def my_decorator(func):\n",
        "    def func_wrapper(*args, **kwargs):\n",
        "      for _ in range(num_time):\n",
        "        func(*args,**kwargs)\n",
        "    return func_wrapper\n",
        "  return my_decorator\n",
        "@repeat(10)\n",
        "def func_b():\n",
        "  print(\"Testing \")\n",
        "\n",
        "func_b()\n",
        "\n",
        "@repeat(10)\n",
        "def func_c(a,b):\n",
        "  print(f\"sum is {a+b} \")\n",
        "\n",
        "func_c(4,9)"
      ],
      "metadata": {
        "colab": {
          "base_uri": "https://localhost:8080/"
        },
        "id": "tfVrzUTTy6vK",
        "outputId": "ec9f1efb-91cc-4779-9f26-a4c887367360"
      },
      "execution_count": null,
      "outputs": [
        {
          "output_type": "stream",
          "name": "stdout",
          "text": [
            "Testing \n",
            "Testing \n",
            "Testing \n",
            "Testing \n",
            "Testing \n",
            "Testing \n",
            "Testing \n",
            "Testing \n",
            "Testing \n",
            "Testing \n",
            "sum is 13 \n",
            "sum is 13 \n",
            "sum is 13 \n",
            "sum is 13 \n",
            "sum is 13 \n",
            "sum is 13 \n",
            "sum is 13 \n",
            "sum is 13 \n",
            "sum is 13 \n",
            "sum is 13 \n"
          ]
        }
      ]
    },
    {
      "cell_type": "markdown",
      "source": [
        "# Class decorator\n",
        "\n",
        "Here i am going to have a function that add two number. However i wanted to extend this functionality to find square of that function."
      ],
      "metadata": {
        "id": "apsl6hvh18M4"
      }
    },
    {
      "cell_type": "code",
      "source": [
        "import math\n",
        "class square:\n",
        "  def __init__(self,func):\n",
        "    self.func = func\n",
        "\n",
        "  def __call__(self, *args, **kwds):\n",
        "    result = self.func(*args, **kwds)**2\n",
        "    return result\n",
        "\n",
        "\n",
        "\n",
        "# Extending this functionality by adding square\n",
        "@square\n",
        "# Add two numbers\n",
        "def add(a,b):\n",
        "  return (a+b)\n",
        "\n",
        "add(30,50)"
      ],
      "metadata": {
        "colab": {
          "base_uri": "https://localhost:8080/"
        },
        "id": "coZ3n3fC1_9y",
        "outputId": "4afad975-24da-4c8e-b1b0-143a8c6bbefa"
      },
      "execution_count": null,
      "outputs": [
        {
          "output_type": "execute_result",
          "data": {
            "text/plain": [
              "6400"
            ]
          },
          "metadata": {},
          "execution_count": 18
        }
      ]
    },
    {
      "cell_type": "markdown",
      "source": [
        "# About iterator\n",
        "\n",
        "Iterator will be having two object. Iter() and Next(). Iterator is applicable forr all collections(dictionaries, set) and for sequences like list, tuple and string."
      ],
      "metadata": {
        "id": "9UwnggR4NRK_"
      }
    },
    {
      "cell_type": "code",
      "source": [
        "import random\n",
        "random.seed(2)\n",
        "\n",
        "list_a = []\n",
        "for i in range(10):\n",
        "  list_a.append(random.randint(1,100))\n",
        "\n",
        "print(f\"Generated random int is {list_a}\")\n",
        "\n",
        "#help(iter)\n",
        "\n",
        "iter2 = iter(list_a)\n",
        "if iter2!=0:\n",
        "  print(f\"Printing the iter values {iter} \")\n",
        "  next(iter2)"
      ],
      "metadata": {
        "colab": {
          "base_uri": "https://localhost:8080/",
          "height": 228
        },
        "id": "qxap7CzvN-Ks",
        "outputId": "5d5be3bd-7f2e-4c86-97c9-ad7da5b5f019"
      },
      "execution_count": null,
      "outputs": [
        {
          "output_type": "stream",
          "name": "stdout",
          "text": [
            "Generated random int is [8, 12, 11, 47, 22, 95, 86, 40, 33, 78]\n"
          ]
        },
        {
          "output_type": "error",
          "ename": "TypeError",
          "evalue": "'list_iterator' object is not callable",
          "traceback": [
            "\u001b[0;31m---------------------------------------------------------------------------\u001b[0m",
            "\u001b[0;31mTypeError\u001b[0m                                 Traceback (most recent call last)",
            "\u001b[0;32m<ipython-input-15-f1b42d44d6e4>\u001b[0m in \u001b[0;36m<cell line: 12>\u001b[0;34m()\u001b[0m\n\u001b[1;32m     10\u001b[0m \u001b[0;31m#help(iter)\u001b[0m\u001b[0;34m\u001b[0m\u001b[0;34m\u001b[0m\u001b[0m\n\u001b[1;32m     11\u001b[0m \u001b[0;34m\u001b[0m\u001b[0m\n\u001b[0;32m---> 12\u001b[0;31m \u001b[0miter2\u001b[0m \u001b[0;34m=\u001b[0m \u001b[0miter\u001b[0m\u001b[0;34m(\u001b[0m\u001b[0mlist_a\u001b[0m\u001b[0;34m)\u001b[0m\u001b[0;34m\u001b[0m\u001b[0;34m\u001b[0m\u001b[0m\n\u001b[0m\u001b[1;32m     13\u001b[0m \u001b[0;32mif\u001b[0m \u001b[0miter2\u001b[0m\u001b[0;34m!=\u001b[0m\u001b[0;36m0\u001b[0m\u001b[0;34m:\u001b[0m\u001b[0;34m\u001b[0m\u001b[0;34m\u001b[0m\u001b[0m\n\u001b[1;32m     14\u001b[0m   \u001b[0mprint\u001b[0m\u001b[0;34m(\u001b[0m\u001b[0;34mf\"Printing the iter values {iter} \"\u001b[0m\u001b[0;34m)\u001b[0m\u001b[0;34m\u001b[0m\u001b[0;34m\u001b[0m\u001b[0m\n",
            "\u001b[0;31mTypeError\u001b[0m: 'list_iterator' object is not callable"
          ]
        }
      ]
    },
    {
      "cell_type": "markdown",
      "source": [
        "# Generator:\n",
        "1. First learn about generators. Its basically preserve the state and return the values then and there instead of storing all the values in memory.\n",
        "\n",
        "It is very usual while dealing with large data set. And the cases where you are not depending on the entire set instead a single value at the moment.\n",
        "\n",
        "And Use genetor while dealing with large dataset. If you are worried about just few number of data set then Genetators are not worth.\n",
        "\n",
        "Since Genetor use context switching and state preservence it would be bit overhead to the processor.\n",
        "\n",
        "\n",
        "\n"
      ],
      "metadata": {
        "id": "bbcaO8hUQ5Hu"
      }
    },
    {
      "cell_type": "code",
      "source": [
        "def my_generator(n):\n",
        "  i = 0\n",
        "  while(i<n):\n",
        "    yield i\n",
        "    i = i+1\n",
        "\n",
        "def my_list(n):\n",
        "  i=0\n",
        "  x = []\n",
        "  while(i<n):\n",
        "    i = i+1\n",
        "    x.append(i)\n",
        "  return x\n",
        "\n",
        "for s in my_generator(5):\n",
        "  print(\"Using Generator\")\n",
        "  print(s)\n",
        "\n",
        "for k in my_list(5):\n",
        "  print(\"Using normal list function\")\n",
        "  print(k)"
      ],
      "metadata": {
        "colab": {
          "base_uri": "https://localhost:8080/"
        },
        "id": "S1pew2M7S6Dt",
        "outputId": "2cfc438f-638c-4425-c664-21af474ffd6f"
      },
      "execution_count": 5,
      "outputs": [
        {
          "output_type": "stream",
          "name": "stdout",
          "text": [
            "Using Generator\n",
            "0\n",
            "Using Generator\n",
            "1\n",
            "Using Generator\n",
            "2\n",
            "Using Generator\n",
            "3\n",
            "Using Generator\n",
            "4\n",
            "Using normal list function\n",
            "1\n",
            "Using normal list function\n",
            "2\n",
            "Using normal list function\n",
            "3\n",
            "Using normal list function\n",
            "4\n",
            "Using normal list function\n",
            "5\n"
          ]
        }
      ]
    },
    {
      "cell_type": "markdown",
      "source": [
        "1. Even number till the given numbers\n",
        "2. Create a generator for first N natural even number:"
      ],
      "metadata": {
        "id": "BNXmGFB8WCwM"
      }
    },
    {
      "cell_type": "code",
      "source": [
        "def even_number_generator(n):\n",
        "  for i in range(1,n):\n",
        "    if i%2 == 0:\n",
        "      yield i\n",
        "\n",
        "def even_number_till_n(n):\n",
        "  for i in range(2,2*n):\n",
        "    if i%2 == 0:\n",
        "      yield i\n",
        "\n",
        "input_number = 77\n",
        "print(f\"Even nubers till {input_number}\")\n",
        "for even_number in even_number_generator(input_number):\n",
        "  print(even_number)\n",
        "\n",
        "print(f\"First n natural even nubers {input_number}\")\n",
        "for n in even_number_till_n(input_number):\n",
        "  print(n)"
      ],
      "metadata": {
        "colab": {
          "base_uri": "https://localhost:8080/"
        },
        "id": "hiSDCvWWWFNu",
        "outputId": "1a24247d-9e72-49d0-e38c-bb62a97f7d78"
      },
      "execution_count": 8,
      "outputs": [
        {
          "output_type": "stream",
          "name": "stdout",
          "text": [
            "Even nubers till 77\n",
            "2\n",
            "4\n",
            "6\n",
            "8\n",
            "10\n",
            "12\n",
            "14\n",
            "16\n",
            "18\n",
            "20\n",
            "22\n",
            "24\n",
            "26\n",
            "28\n",
            "30\n",
            "32\n",
            "34\n",
            "36\n",
            "38\n",
            "40\n",
            "42\n",
            "44\n",
            "46\n",
            "48\n",
            "50\n",
            "52\n",
            "54\n",
            "56\n",
            "58\n",
            "60\n",
            "62\n",
            "64\n",
            "66\n",
            "68\n",
            "70\n",
            "72\n",
            "74\n",
            "76\n",
            "First n natural even nubers 77\n",
            "2\n",
            "4\n",
            "6\n",
            "8\n",
            "10\n",
            "12\n",
            "14\n",
            "16\n",
            "18\n",
            "20\n",
            "22\n",
            "24\n",
            "26\n",
            "28\n",
            "30\n",
            "32\n",
            "34\n",
            "36\n",
            "38\n",
            "40\n",
            "42\n",
            "44\n",
            "46\n",
            "48\n",
            "50\n",
            "52\n",
            "54\n",
            "56\n",
            "58\n",
            "60\n",
            "62\n",
            "64\n",
            "66\n",
            "68\n",
            "70\n",
            "72\n",
            "74\n",
            "76\n",
            "78\n",
            "80\n",
            "82\n",
            "84\n",
            "86\n",
            "88\n",
            "90\n",
            "92\n",
            "94\n",
            "96\n",
            "98\n",
            "100\n",
            "102\n",
            "104\n",
            "106\n",
            "108\n",
            "110\n",
            "112\n",
            "114\n",
            "116\n",
            "118\n",
            "120\n",
            "122\n",
            "124\n",
            "126\n",
            "128\n",
            "130\n",
            "132\n",
            "134\n",
            "136\n",
            "138\n",
            "140\n",
            "142\n",
            "144\n",
            "146\n",
            "148\n",
            "150\n",
            "152\n"
          ]
        }
      ]
    },
    {
      "cell_type": "markdown",
      "source": [
        "# Python over loading:\n",
        "\n",
        "Adding more functionalities with same name but variable number aguments passed to it while  "
      ],
      "metadata": {
        "id": "Aci8KK7JSCqO"
      }
    }
  ]
}